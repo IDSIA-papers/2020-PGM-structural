{
 "cells": [
  {
   "cell_type": "markdown",
   "metadata": {},
   "source": [
    "# Precision experiments"
   ]
  },
  {
   "cell_type": "code",
   "execution_count": null,
   "metadata": {},
   "outputs": [],
   "source": [
    "import os\n",
    "import pandas as pd\n",
    "import numpy as np\n",
    "from pathlib import Path\n",
    "\n",
    "import config\n",
    "from experiments import *"
   ]
  },
  {
   "cell_type": "code",
   "execution_count": null,
   "metadata": {},
   "outputs": [],
   "source": [
    "# IMPORTANT: set the following pahts and the JAVA_HOME environment variable\n",
    "\n",
    "config.prj_path = Path(\"../\").resolve()\n",
    "\n",
    "config.exp_folder = f\"{config.prj_path}/experiments/\"\n",
    "config.log_folder = f\"{config.exp_folder}/logs/\"\n",
    "config.res_folder = f\"{config.exp_folder}/results/\"\n",
    "config.jarfile=f\"{config.prj_path}/target/experiments.jar\"\n",
    "\n",
    "os.environ['JAVA_HOME'] = \"/Library/Java/JavaVirtualMachines/openjdk-12.0.1.jdk/Contents/Home\"\n",
    "\n",
    "rebuild = True"
   ]
  },
  {
   "cell_type": "code",
   "execution_count": null,
   "metadata": {},
   "outputs": [],
   "source": [
    "# Set the project path as the working directory\n",
    "if os.getcwd() != config.prj_path: os.chdir(config.prj_path)"
   ]
  },
  {
   "cell_type": "code",
   "execution_count": null,
   "metadata": {},
   "outputs": [],
   "source": [
    "# Rebuild the package if required\n",
    "if rebuild:\n",
    "    !mvn clean package"
   ]
  },
  {
   "cell_type": "code",
   "execution_count": null,
   "metadata": {},
   "outputs": [],
   "source": [
    "SEED = [1234+i*1234//2 for i in range(0,100,1)]\n",
    "res = {}\n",
    "len(SEED)"
   ]
  },
  {
   "cell_type": "markdown",
   "metadata": {},
   "source": [
    "Note that all the cells below are disabled, just change the `if` condition in the desiered block of experiments "
   ]
  },
  {
   "cell_type": "code",
   "execution_count": null,
   "metadata": {},
   "outputs": [],
   "source": [
    "### Tree topology (chain non-markovian)\n",
    "\n",
    "if True:\n",
    "    endovarsize = 2\n",
    "    args = dict(N=range(3,11), dovar=[0], seed=SEED, exovarsize=[6], method=[\"CCVE\",\"CCALPeps\"])\n",
    "    outkeys = [\"time\", \"query_time\"]+ sum([[f\"lowerbound{i}\", f\"upperbound{i}\"] for i in range(0,endovarsize)], [])\n",
    "    fargs = dict(target = lambda t: int(((t[\"N\"]-1)//2)*2),\n",
    "                 obsvar = lambda t: int(t[\"N\"]*2 - 1))\n",
    "\n",
    "    lenght_dep_vars = [\"N\", \"target\", \"obsvar\"]\n",
    "\n",
    "    results1 = run_experiments(run_tree, args, outkeys, fargs, lenght_dep_vars=lenght_dep_vars)\n",
    "    res_file = f\"{config.res_folder}{strdate()}_chain_nonmarkovian_prec.csv\"\n",
    "    results1.to_csv(res_file)\n"
   ]
  },
  {
   "cell_type": "code",
   "execution_count": null,
   "metadata": {},
   "outputs": [],
   "source": [
    "# Polytree topology (reverse HMM)\n",
    "if True:\n",
    "    endovarsize=2\n",
    "    args = dict(N=[3,4,5,6], dovar=[0], seed=SEED, exovarsize=[6], method=[\"CCVE\",\"CCALPeps\"])\n",
    "    outkeys = [\"time\", \"query_time\"]+ sum([[f\"lowerbound{i}\", f\"upperbound{i}\"] for i in range(0,endovarsize)], [])\n",
    "    fargs = dict(target = lambda t: int(((t[\"N\"]-1)//2)*2),\n",
    "                 obsvar = lambda t: int(t[\"N\"]*2 - 2))\n",
    "\n",
    "    lenght_dep_vars = [\"N\", \"target\", \"obsvar\"]\n",
    "\n",
    "    results1 = run_experiments(run_tree, args, outkeys, fargs, lenght_dep_vars=lenght_dep_vars)\n",
    "    res_file = f\"{config.res_folder}{strdate()}_rhmm_nonmarkovian_prec.csv\"\n",
    "    results1.to_csv(res_file)\n",
    "\n"
   ]
  },
  {
   "cell_type": "code",
   "execution_count": null,
   "metadata": {},
   "outputs": [],
   "source": [
    "# Multiply connected topology (squares)\n",
    "if True:\n",
    "    endovarsize = 2\n",
    "    args = dict(N=list(range(3,11)), dovar=[0], seed=SEED, exovarsize=[6], method=[\"CCVE\",\"CCALPeps\"])\n",
    "    outkeys = [\"time\", \"query_time\"]+ sum([[f\"lowerbound{i}\", f\"upperbound{i}\"] for i in range(0,endovarsize)], [])\n",
    "    fargs = dict(target = lambda t: int(((t[\"N\"]-1)//2)*2),\n",
    "                 obsvar = lambda t: int(t[\"N\"]*2 - 1))\n",
    "\n",
    "    lenght_dep_vars = [\"N\", \"target\", \"obsvar\"]\n",
    "\n",
    "    results1 = run_experiments(run_multiplyconnected, args, outkeys, fargs, lenght_dep_vars=lenght_dep_vars)\n",
    "    res_file = f\"{config.res_folder}{strdate()}_squares_nonmarkovian_prec.csv\"\n",
    "    results1.to_csv(res_file)\n",
    "\n"
   ]
  }
 ],
 "metadata": {
  "kernelspec": {
   "display_name": "Python 3",
   "language": "python",
   "name": "python3"
  },
  "language_info": {
   "codemirror_mode": {
    "name": "ipython",
    "version": 3
   },
   "file_extension": ".py",
   "mimetype": "text/x-python",
   "name": "python",
   "nbconvert_exporter": "python",
   "pygments_lexer": "ipython3",
   "version": "3.6.9"
  }
 },
 "nbformat": 4,
 "nbformat_minor": 4
}
